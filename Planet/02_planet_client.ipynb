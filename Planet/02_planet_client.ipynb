{
 "cells": [
  {
   "cell_type": "code",
   "execution_count": null,
   "metadata": {},
   "outputs": [],
   "source": []
  },
  {
   "cell_type": "code",
   "execution_count": 56,
   "metadata": {},
   "outputs": [],
   "source": [
    "import os, json, requests\n",
    "from requests.auth import HTTPBasicAuth\n",
    "from pprint import pprint\n",
    "import pdb\n",
    "os.environ['PL_API_KEY']  = '7d8af35b6e944f33bb5e33ada32ab4a0'\n",
    "PL_API_KEY = os.getenv('PL_API_KEY')\n",
    "PL_AUTH = HTTPBasicAuth(PL_API_KEY, '')\n",
    "\n",
    "# Setup Planet Data API base URL\n",
    "BASE_URL = \"https://api.planet.com/data/v1\"\n",
    "STATS_URL = f'{BASE_URL}/stats'\n",
    "\n",
    "#Setup the session\n",
    "sess = requests.Session()\n",
    "# Authenticate\n",
    "sess.auth = (PL_API_KEY, '')\n",
    "\n",
    "# printout helper\n",
    "def p(response):\n",
    "    pprint(response.json())"
   ]
  },
  {
   "cell_type": "code",
   "execution_count": 26,
   "metadata": {},
   "outputs": [
    {
     "name": "stdout",
     "output_type": "stream",
     "text": [
      "{'_links': {'_self': 'https://api.planet.com/data/v1/',\n",
      "            'asset-types': 'https://api.planet.com/data/v1/asset-types/',\n",
      "            'item-types': 'https://api.planet.com/data/v1/item-types/',\n",
      "            'spec': 'https://api.planet.com/data/v1/spec'}}\n"
     ]
    }
   ],
   "source": [
    "# Try a simple request using the session\n",
    "res = sess.get(BASE_URL)\n",
    "p(res)"
   ]
  },
  {
   "cell_type": "code",
   "execution_count": 27,
   "metadata": {},
   "outputs": [],
   "source": [
    "temp = sess.get(res.json()['_links']['item-types'])"
   ]
  },
  {
   "cell_type": "code",
   "execution_count": 37,
   "metadata": {},
   "outputs": [
    {
     "name": "stdout",
     "output_type": "stream",
     "text": [
      "14\n",
      "['MYD09GQ',\n",
      " 'PSScene4Band',\n",
      " 'SkySatScene',\n",
      " 'PSScene3Band',\n",
      " 'Sentinel1',\n",
      " 'REScene',\n",
      " 'REOrthoTile',\n",
      " 'Sentinel2L1C',\n",
      " 'MOD09GA',\n",
      " 'MYD09GA',\n",
      " 'SkySatCollect',\n",
      " 'PSOrthoTile',\n",
      " 'Landsat8L1G',\n",
      " 'MOD09GQ']\n"
     ]
    }
   ],
   "source": [
    "item_type_ids = [itype['id'] for itype in temp.json()['item_types']]\n",
    "print(len(item_type_ids))\n",
    "pprint(item_type_ids)"
   ]
  },
  {
   "cell_type": "code",
   "execution_count": 47,
   "metadata": {},
   "outputs": [],
   "source": [
    "item_type = 'PSScene4Band'\n"
   ]
  },
  {
   "cell_type": "code",
   "execution_count": 21,
   "metadata": {},
   "outputs": [
    {
     "data": {
      "text/plain": [
       "<Response [405]>"
      ]
     },
     "execution_count": 21,
     "metadata": {},
     "output_type": "execute_result"
    }
   ],
   "source": [
    "# Filters"
   ]
  },
  {
   "cell_type": "code",
   "execution_count": 43,
   "metadata": {},
   "outputs": [],
   "source": [
    "## Set Area of Interest\n",
    "aoi_data = {\n",
    "  \"type\": \"FeatureCollection\",\n",
    "  \"features\": [\n",
    "    {\n",
    "      \"type\": \"Feature\",\n",
    "      \"properties\": {},\n",
    "      \"geometry\": {\n",
    "        \"type\": \"Polygon\",\n",
    "        \"coordinates\": [\n",
    "          [\n",
    "            [\n",
    "              -118.2967472076416,\n",
    "              34.00578318672437\n",
    "            ],\n",
    "            [\n",
    "              -118.22739601135252,\n",
    "              34.00578318672437\n",
    "            ],\n",
    "            [\n",
    "              -118.22739601135252,\n",
    "              34.07846940942791\n",
    "            ],\n",
    "            [\n",
    "              -118.2967472076416,\n",
    "              34.07846940942791\n",
    "            ],\n",
    "            [\n",
    "              -118.2967472076416,\n",
    "              34.00578318672437\n",
    "            ]\n",
    "          ]\n",
    "        ]\n",
    "      }\n",
    "    }\n",
    "  ]\n",
    "}\n",
    "aoi_geom = aoi_data['features'][0]['geometry']"
   ]
  },
  {
   "cell_type": "code",
   "execution_count": 44,
   "metadata": {},
   "outputs": [],
   "source": [
    "geom_filter = {\n",
    "    'type': 'GeometryFilter',\n",
    "    'field_name': 'geometry',\n",
    "    'config': aoi_geom\n",
    "}\n",
    "\n",
    "date_range_filter = {\n",
    "    'type': 'DateRangeFilter',\n",
    "    \n",
    "    #The field to filter on: 'acquired` meaning, \n",
    "    #\"date on which the scene image was captured\"\n",
    "    'field_name': 'acquired', \n",
    "    'config': {\n",
    "        \"gte\": \"2016-01-01T00:00:00.000Z\",\n",
    "        \"lte\": \"2019-01-01T00:00:00.000Z\"\n",
    "    }\n",
    "}\n",
    "\n",
    "cloud_cover_filter = {\n",
    "    'type':'RangeFilter',\n",
    "    'field_name': 'cloud_cover',\n",
    "    'config': {\n",
    "        \"lte\":0.1\n",
    "    }\n",
    "}\n",
    "\n",
    "combined_filter = {\n",
    "    'type': 'AndFilter',\n",
    "    'config': [geom_filter, date_range_filter, cloud_cover_filter]\n",
    "}"
   ]
  },
  {
   "cell_type": "code",
   "execution_count": 48,
   "metadata": {},
   "outputs": [],
   "source": [
    "# Construct the request\n",
    "search_request = {\n",
    "    'item_types': [item_type],\n",
    "    'interval': 'month',\n",
    "    'filter': combined_filter\n",
    "}\n",
    "\n",
    "# Send the post request to the quick search endpoint\n",
    "SEARCH_URL = f'{BASE_URL}/quick-search'\n",
    "search_resp = sess.post(SEARCH_URL, json=search_request)"
   ]
  },
  {
   "cell_type": "code",
   "execution_count": 50,
   "metadata": {},
   "outputs": [
    {
     "name": "stdout",
     "output_type": "stream",
     "text": [
      "250\n"
     ]
    }
   ],
   "source": [
    "search_res = search_resp.json()['features']\n",
    "print(len(search_res)) # number of images satifying the filter requirements"
   ]
  },
  {
   "cell_type": "code",
   "execution_count": 53,
   "metadata": {},
   "outputs": [
    {
     "data": {
      "text/plain": [
       "{'_first': 'https://api.planet.com/data/v1/searches/22650a3f529549c2b9814f78548f9b77/results?_page=eyJxdWVyeV9wYXJhbXMiOiB7fSwgInNvcnRfcHJldiI6IGZhbHNlLCAicGFnZV9zaXplIjogMjUwLCAic29ydF9ieSI6ICJwdWJsaXNoZWQiLCAic29ydF9zdGFydCI6IG51bGwsICJzb3J0X2xhc3RfaWQiOiBudWxsLCAic29ydF9kZXNjIjogdHJ1ZX0%3D',\n",
       " '_next': 'https://api.planet.com/data/v1/searches/22650a3f529549c2b9814f78548f9b77/results?_page=eyJxdWVyeV9wYXJhbXMiOiB7fSwgInNvcnRfcHJldiI6IGZhbHNlLCAicGFnZV9zaXplIjogMjUwLCAic29ydF9ieSI6ICJwdWJsaXNoZWQiLCAic29ydF9zdGFydCI6ICIyMDE4LTA5LTA5VDA2OjA2OjIwLjY4MTAwMFoiLCAic29ydF9sYXN0X2lkIjogIjIwMTgwOTA4XzE3NTkzNV8xMDUxIiwgInNvcnRfZGVzYyI6IHRydWV9',\n",
       " '_self': 'https://api.planet.com/data/v1/searches/22650a3f529549c2b9814f78548f9b77/results?_page=eyJxdWVyeV9wYXJhbXMiOiB7fSwgInNvcnRfcHJldiI6IGZhbHNlLCAicGFnZV9zaXplIjogMjUwLCAic29ydF9ieSI6ICJwdWJsaXNoZWQiLCAic29ydF9zdGFydCI6IG51bGwsICJzb3J0X2xhc3RfaWQiOiBudWxsLCAic29ydF9kZXNjIjogdHJ1ZX0%3D'}"
      ]
     },
     "execution_count": 53,
     "metadata": {},
     "output_type": "execute_result"
    }
   ],
   "source": [
    "search_resp.json()['_links']"
   ]
  },
  {
   "cell_type": "code",
   "execution_count": 66,
   "metadata": {},
   "outputs": [
    {
     "name": "stdout",
     "output_type": "stream",
     "text": [
      "250\n",
      "['20181230_181227_0f4e',\n",
      " '20181228_180349_0e26',\n",
      " '20181219_180938_1018',\n",
      " '20181213_181058_103e',\n",
      " '20181207_174643_104d',\n",
      " '20181202_180839_0f25',\n",
      " '20181123_174924_0f4a',\n",
      " '20181120_180854_1018',\n",
      " '20181115_174949_0f4a',\n",
      " '20181106_175144_0f36',\n",
      " '20181103_180850_101b',\n",
      " '20181101_180756_1002',\n",
      " '20181030_180929_0f17',\n",
      " '20181026_181011_1018',\n",
      " '20180225_174711_1105',\n",
      " '20181019_180748_1003',\n",
      " '20181015_180624_1029',\n",
      " '20181009_180828_0f17',\n",
      " '20181001_180731_1033',\n",
      " '20180924_175747_104d',\n",
      " '20180922_175659_1050',\n",
      " '20180920_175734_101c',\n",
      " '20180915_175841_0f44',\n",
      " '20180912_180708_1015',\n",
      " '20180910_180659_0f42']\n"
     ]
    }
   ],
   "source": [
    "ids_page1 = [f['id'] for f in search_resp.json()['features']]\n",
    "print(len(ids_page1))\n",
    "pprint(ids_page1[::10])"
   ]
  },
  {
   "cell_type": "code",
   "execution_count": 81,
   "metadata": {},
   "outputs": [
    {
     "name": "stdout",
     "output_type": "stream",
     "text": [
      "250\n",
      "['20181230_181227_0f4e',\n",
      " '20181228_180349_0e26',\n",
      " '20181219_180938_1018',\n",
      " '20181213_181058_103e',\n",
      " '20181207_174643_104d',\n",
      " '20181202_180839_0f25',\n",
      " '20181123_174924_0f4a',\n",
      " '20181120_180854_1018',\n",
      " '20181115_174949_0f4a',\n",
      " '20181106_175144_0f36',\n",
      " '20181103_180850_101b',\n",
      " '20181101_180756_1002',\n",
      " '20181030_180929_0f17',\n",
      " '20181026_181011_1018',\n",
      " '20180225_174711_1105',\n",
      " '20181019_180748_1003',\n",
      " '20181015_180624_1029',\n",
      " '20181009_180828_0f17',\n",
      " '20181001_180731_1033',\n",
      " '20180924_175747_104d',\n",
      " '20180922_175659_1050',\n",
      " '20180920_175734_101c',\n",
      " '20180915_175841_0f44',\n",
      " '20180912_180708_1015',\n",
      " '20180910_180659_0f42']\n"
     ]
    }
   ],
   "source": [
    "# first_url = search_resp.json()['_links']['_first']\n",
    "resp = sess.get(first_url).json()\n",
    "# p(resp)\n",
    "ids_first = [f['id'] for f in resp['features']]\n",
    "print(len(ids_first))\n",
    "pprint(ids_first[::10])"
   ]
  },
  {
   "cell_type": "code",
   "execution_count": 82,
   "metadata": {},
   "outputs": [
    {
     "name": "stdout",
     "output_type": "stream",
     "text": [
      "True\n"
     ]
    }
   ],
   "source": [
    "print(resp['_links']['_next'] == search_resp['_links']['_next'])"
   ]
  },
  {
   "cell_type": "code",
   "execution_count": 79,
   "metadata": {},
   "outputs": [],
   "source": [
    "# search_resp = search_resp.json()"
   ]
  },
  {
   "cell_type": "code",
   "execution_count": 99,
   "metadata": {},
   "outputs": [
    {
     "name": "stdout",
     "output_type": "stream",
     "text": [
      "0 https://api.planet.com/data/v1/searches/22650a3f529549c2b9814f78548f9b77/results?_page=eyJxdWVyeV9wYXJhbXMiOiB7fSwgInNvcnRfcHJldiI6IGZhbHNlLCAicGFnZV9zaXplIjogMjUwLCAic29ydF9ieSI6ICJwdWJsaXNoZWQiLCAic29ydF9zdGFydCI6ICIyMDE3LTEwLTI4VDA2OjQxOjM5LjAwMDAwMFoiLCAic29ydF9sYXN0X2lkIjogIjIwMTcwOTA2XzE4NTM0NF8xMDQ5IiwgInNvcnRfZGVzYyI6IHRydWV9\n"
     ]
    }
   ],
   "source": [
    "ids = ids_page1\n",
    "count = 0\n",
    "try:# whenever you hit this next url, the next page is returned (like a generator)\n",
    "    next_url = resp['_links']['_next'] \n",
    "    print(count, next_url)\n",
    "    \n",
    "    # assign to this page's result - this enables to go through all pages\n",
    "    resp = sess.get(next_url).json()\n",
    "    ids_next = [f['id'] for f in resp['features']]\n",
    "    ids.append(ids_next)\n",
    "    count += 1\n",
    "#     pprint(ids_next[::10])\n",
    "except Exception as e:\n",
    "    pdb.set_trace()\n",
    "    print(e, count)\n",
    "    print('end of page iteration')"
   ]
  },
  {
   "cell_type": "code",
   "execution_count": 93,
   "metadata": {},
   "outputs": [
    {
     "name": "stdout",
     "output_type": "stream",
     "text": [
      "total retrieved scene numbers:  250\n"
     ]
    }
   ],
   "source": [
    "print('total retrieved scene numbers: ', len(ids))"
   ]
  },
  {
   "cell_type": "code",
   "execution_count": 75,
   "metadata": {},
   "outputs": [
    {
     "name": "stdout",
     "output_type": "stream",
     "text": [
      "250\n",
      "['20180907_180655_100e',\n",
      " '20180831_180556_1034',\n",
      " '20180828_180728_0f51',\n",
      " '20180824_180346_0e2f',\n",
      " '20180820_180652_0f12',\n",
      " '20180817_180211_1050',\n",
      " '20180815_180617_0f43',\n",
      " '20180811_180421_1048',\n",
      " '20180808_180355_104e',\n",
      " '20180805_180639_0f4e',\n",
      " '20180801_180625_101e',\n",
      " '20180728_180620_1038',\n",
      " '20180723_180516_103e',\n",
      " '20180721_180224_0e26',\n",
      " '20180715_180710_0f4b',\n",
      " '20180712_180801_0f2d',\n",
      " '20180707_180914_1043',\n",
      " '20180706_180453_103e',\n",
      " '20180703_180433_1004',\n",
      " '20180628_180443_1012',\n",
      " '20180626_180528_0f22',\n",
      " '20161004_004839_0c62',\n",
      " '20180619_180345_103e',\n",
      " '20180614_180313_101f',\n",
      " '20180611_180437_101e']\n"
     ]
    }
   ],
   "source": [
    "# whenever you hit this next url, the next page is returned (like a generator)\n",
    "next_url = search_resp.json()['_links']['_next'] \n",
    "next_resp = sess.get(next_url).json()\n",
    "ids_next = [f['id'] for f in next_resp['features']]\n",
    "print(len(ids_next))\n",
    "pprint(ids_next[::10])\n"
   ]
  },
  {
   "cell_type": "markdown",
   "metadata": {},
   "source": [
    "### Saved Searches"
   ]
  },
  {
   "cell_type": "code",
   "execution_count": 115,
   "metadata": {},
   "outputs": [
    {
     "name": "stdout",
     "output_type": "stream",
     "text": [
      "{'__daily_email_enabled': False,\n",
      " '_links': {'_self': 'https://api.planet.com/data/v1/searches/adb56abeaffb42858e4c13898388d6a3',\n",
      "            'results': 'https://api.planet.com/data/v1/searches/adb56abeaffb42858e4c13898388d6a3/results'},\n",
      " 'created': '2019-05-08T01:11:12.005177Z',\n",
      " 'filter': {'config': [{'config': {'coordinates': [[[-118.2967472076416,\n",
      "                                                     34.00578318672437],\n",
      "                                                    [-118.22739601135252,\n",
      "                                                     34.00578318672437],\n",
      "                                                    [-118.22739601135252,\n",
      "                                                     34.07846940942791],\n",
      "                                                    [-118.2967472076416,\n",
      "                                                     34.07846940942791],\n",
      "                                                    [-118.2967472076416,\n",
      "                                                     34.00578318672437]]],\n",
      "                                   'type': 'Polygon'},\n",
      "                        'field_name': 'geometry',\n",
      "                        'type': 'GeometryFilter'},\n",
      "                       {'config': {'gte': '2016-01-01T00:00:00Z',\n",
      "                                   'lte': '2019-01-01T00:00:00Z'},\n",
      "                        'field_name': 'acquired',\n",
      "                        'type': 'DateRangeFilter'},\n",
      "                       {'config': {'lte': 0.1},\n",
      "                        'field_name': 'cloud_cover',\n",
      "                        'type': 'RangeFilter'}],\n",
      "            'type': 'AndFilter'},\n",
      " 'id': 'adb56abeaffb42858e4c13898388d6a3',\n",
      " 'item_types': ['PSScene4Band'],\n",
      " 'last_executed': None,\n",
      " 'name': 'downtown_la',\n",
      " 'search_type': 'saved',\n",
      " 'updated': '2019-05-08T01:11:12.005216Z'}\n"
     ]
    }
   ],
   "source": [
    "SAVED_SEARCH_URL = f\"{BASE_URL}/searches\"\n",
    "# add the name field which specifies the name of the saved search\n",
    "search_request2 = {\n",
    "    \"name\": \"downtown_la\",\n",
    "    \"interval\": \"day\",\n",
    "    \"item_types\": [item_type],\n",
    "    'filter': combined_filter\n",
    "}\n",
    "\n",
    "# send a post request to the sdaved searches endpoint to create a saved search\n",
    "res = sess.post(SAVED_SEARCH_URL, \n",
    "                json=search_request2)\n",
    "p(res)"
   ]
  },
  {
   "cell_type": "markdown",
   "metadata": {},
   "source": [
    "\n",
    "todo:\n",
    "- [ ] download LA DOWNTOWN IMAGES FROM THIS DATERANGE AND SAVE TO AN . IMAGE\n",
    "- [ ] CHANGE geometry tO paris - notredame within the last year range and download/save the images\n",
    "- [ ] Make a timelapse with those images \n",
    "    - [ ] gdal: 16bits tiff => jpeg"
   ]
  },
  {
   "cell_type": "code",
   "execution_count": null,
   "metadata": {},
   "outputs": [],
   "source": []
  }
 ],
 "metadata": {
  "kernelspec": {
   "display_name": "Python [conda env:pyviz]",
   "language": "python",
   "name": "conda-env-pyviz-py"
  },
  "language_info": {
   "codemirror_mode": {
    "name": "ipython",
    "version": 3
   },
   "file_extension": ".py",
   "mimetype": "text/x-python",
   "name": "python",
   "nbconvert_exporter": "python",
   "pygments_lexer": "ipython3",
   "version": "3.6.7"
  }
 },
 "nbformat": 4,
 "nbformat_minor": 2
}
