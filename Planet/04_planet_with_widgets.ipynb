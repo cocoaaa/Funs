{
 "cells": [
  {
   "cell_type": "code",
   "execution_count": 1,
   "metadata": {},
   "outputs": [],
   "source": [
    "%load_ext autoreload\n",
    "%autoreload 2"
   ]
  },
  {
   "cell_type": "code",
   "execution_count": 2,
   "metadata": {},
   "outputs": [
    {
     "name": "stderr",
     "output_type": "stream",
     "text": [
      "/home/hayley/miniconda3/envs/widgets/lib/python3.6/importlib/_bootstrap.py:219: ImportWarning: can't resolve package from __spec__ or __package__, falling back on __name__ and __path__\n",
      "  return f(*args, **kwds)\n",
      "/home/hayley/miniconda3/envs/widgets/lib/python3.6/site-packages/pkg_resources/__init__.py:1151: DeprecationWarning: Use of .. or absolute path in a resource path is not allowed and will raise exceptions in a future release.\n",
      "  self, resource_name\n",
      "/home/hayley/miniconda3/envs/widgets/lib/python3.6/site-packages/branca/colormap.py:29: ResourceWarning: unclosed file <_io.BufferedReader name='/home/hayley/miniconda3/envs/widgets/lib/python3.6/site-packages/branca/_cnames.json'>\n",
      "  resource_package, resource_path_cnames).read().decode()\n",
      "/home/hayley/miniconda3/envs/widgets/lib/python3.6/site-packages/branca/colormap.py:33: ResourceWarning: unclosed file <_io.BufferedReader name='/home/hayley/miniconda3/envs/widgets/lib/python3.6/site-packages/branca/_schemes.json'>\n",
      "  resource_package, resource_path_schemes).read().decode()\n",
      "/home/hayley/miniconda3/envs/widgets/lib/python3.6/site-packages/ipyleaflet/leaflet.py:90: DeprecationWarning: Traits should be given as instances, not types (for example, `Int()`, not `Int`). Passing types is deprecated in traitlets 4.1.\n",
      "  options = List(trait=Unicode).tag(sync=True)\n",
      "/home/hayley/miniconda3/envs/widgets/lib/python3.6/site-packages/ipyleaflet/leaflet.py:308: DeprecationWarning: metadata {'dtype': None} was set from the constructor. With traitlets 4.1, metadata should be set using the .tag() method, e.g., Int().tag(key1='value1', key2='value2')\n",
      "  data = Dataset().tag(sync=True, to_json=ds_x_to_json)\n",
      "/home/hayley/miniconda3/envs/widgets/lib/python3.6/site-packages/ipyleaflet/leaflet.py:427: DeprecationWarning: metadata {'trait': <traitlets.traitlets.Instance object at 0x7fe30ac2c630>} was set from the constructor. With traitlets 4.1, metadata should be set using the .tag() method, e.g., Int().tag(key1='value1', key2='value2')\n",
      "  markers = Tuple(trait=Instance(Marker)).tag(sync=True, **widget_serialization)\n"
     ]
    }
   ],
   "source": [
    "import os, json, requests\n",
    "from pathlib import Path\n",
    "# from requests.auth import HTTPBasicAuth\n",
    "\n",
    "import time, datetime\n",
    "\n",
    "import numpy as np\n",
    "import pandas as pd\n",
    "import geopandas as gpd\n",
    "import matplotlib.pyplot as plt \n",
    "import subprocess\n",
    "from shapely.geometry import shape, mapping\n",
    "from planet import api\n",
    "\n",
    "import ipdb\n",
    "from pprint import pprint\n",
    "from IPython.display import JSON, GeoJSON\n",
    "\n",
    "from ipyleaflet import (\n",
    "    Map,\n",
    "    Marker,\n",
    "    TileLayer, ImageOverlay,\n",
    "    Polyline, Polygon, Rectangle, Circle, CircleMarker,\n",
    "    GeoJSON,\n",
    "    DrawControl\n",
    ")\n"
   ]
  },
  {
   "cell_type": "code",
   "execution_count": 3,
   "metadata": {},
   "outputs": [],
   "source": [
    "def get_mro(someobj):\n",
    "    mro_tuple = someobj.__class__.__mro__\n",
    "    display(mro_tuple)\n",
    "    return mro_tuple"
   ]
  },
  {
   "cell_type": "code",
   "execution_count": 4,
   "metadata": {},
   "outputs": [],
   "source": [
    "my_key = '81c0dedd35fd4a398da77753b90d62ea' # songcoco15\n",
    "# my_key = '7d8af35b6e944f33bb5e33ada32ab4a0' #hayleysong15\n",
    "\n",
    "# Set up the Planet API client - method1\n",
    "os.environ['PL_API_KEY']  = my_key\n",
    "client = api.ClientV1()\n",
    "\n",
    "# Method2: alternatively, \n",
    "# client = api.ClientV1(api_key=my_key)"
   ]
  },
  {
   "cell_type": "code",
   "execution_count": 5,
   "metadata": {},
   "outputs": [
    {
     "name": "stdout",
     "output_type": "stream",
     "text": [
      "https://tiles.planet.com/basemaps/v1/planet-tiles/global_monthly_2016_05_mosaic/gmap/{z}/{x}/{y}.png?api_key=81c0dedd35fd4a398da77753b90d62ea\n"
     ]
    },
    {
     "ename": "NameError",
     "evalue": "name 'z' is not defined",
     "output_type": "error",
     "traceback": [
      "\u001b[0;31m---------------------------------------------------------------------------\u001b[0m",
      "\u001b[0;31mNameError\u001b[0m                                 Traceback (most recent call last)",
      "\u001b[0;32m<ipython-input-5-12798e7766c0>\u001b[0m in \u001b[0;36m<module>\u001b[0;34m\u001b[0m\n\u001b[1;32m     16\u001b[0m \u001b[0;34m\u001b[0m\u001b[0m\n\u001b[1;32m     17\u001b[0m \u001b[0mprint\u001b[0m\u001b[0;34m(\u001b[0m\u001b[0mtiles_url\u001b[0m\u001b[0;34m)\u001b[0m\u001b[0;34m\u001b[0m\u001b[0;34m\u001b[0m\u001b[0m\n\u001b[0;32m---> 18\u001b[0;31m \u001b[0mprint\u001b[0m\u001b[0;34m(\u001b[0m\u001b[0mtiles_url\u001b[0m\u001b[0;34m.\u001b[0m\u001b[0mformat\u001b[0m\u001b[0;34m(\u001b[0m\u001b[0;34m{\u001b[0m\u001b[0mz\u001b[0m\u001b[0;34m:\u001b[0m\u001b[0;36m0\u001b[0m\u001b[0;34m,\u001b[0m \u001b[0mx\u001b[0m\u001b[0;34m:\u001b[0m\u001b[0;36m0\u001b[0m\u001b[0;34m,\u001b[0m \u001b[0my\u001b[0m\u001b[0;34m:\u001b[0m\u001b[0;36m0\u001b[0m\u001b[0;34m}\u001b[0m\u001b[0;34m)\u001b[0m\u001b[0;34m)\u001b[0m\u001b[0;34m\u001b[0m\u001b[0;34m\u001b[0m\u001b[0m\n\u001b[0m",
      "\u001b[0;31mNameError\u001b[0m: name 'z' is not defined"
     ]
    }
   ],
   "source": [
    "# Basemap Mosaic (v1 API)\n",
    "# mosaic_name = 'global_quarterly_2017q1_mosaic'\n",
    "mosaic_name = 'global_monthly_2016_05_mosaic'\n",
    "\n",
    "\n",
    "# Planet tile server base URL (Planet Explorer Mosaics Tiles)\n",
    "# tiles_url_base = f'https://tiles0.planet.com/experimental/mosaics/planet-tiles/{mosaic_name}' + \\\n",
    "#                         '/gmap/{z}/{x}/{y}.png'\n",
    "\n",
    "tiles_url_base = f\"https://tiles.planet.com/basemaps/v1/planet-tiles/{mosaic_name}\" + \\\n",
    "                      \"/gmap/{z}/{x}/{y}.png\"\n",
    "temp = \"https://tiles.planet.com/basemaps/v1/planet-tiles/global_monthly_2019_01_mosaic/gmap/0/0/0.png\"\n",
    "# temp = https://tiles.planet.com/basemaps/v1/planet-tiles/global_monthly_2018_01_mosaic/gmap/0/0/0.png?api_key=81c0dedd35fd4a398da77753b90d62ea\n",
    "# Planet tile server url\n",
    "tiles_url = f'{tiles_url_base}?api_key={my_key}'\n",
    "\n",
    "print(tiles_url)\n",
    "print(tiles_url.format({z:0, x:0, y:0}))"
   ]
  },
  {
   "cell_type": "code",
   "execution_count": 6,
   "metadata": {},
   "outputs": [],
   "source": [
    "# Map Settings \n",
    "# Define colors\n",
    "colors = {'blue': \"#009da5\"}\n",
    "# Define initial map center lat/long\n",
    "paris_latlon = [48.864716, 2.349014] \n",
    "jeonju_latlon = [35.8242, 127.1480] \n",
    "naju_latlon = [35.032194, 126.715671]\n",
    "# Define initial map zoom level\n",
    "zoom = 15\n",
    "# Set Map Tiles URL\n",
    "tile_layer = TileLayer(url= tiles_url)"
   ]
  },
  {
   "cell_type": "code",
   "execution_count": 7,
   "metadata": {},
   "outputs": [],
   "source": [
    "# Create the map\n",
    "m = Map(\n",
    "    center=naju_latlon, \n",
    "    zoom=zoom,\n",
    "#     default_tiles = tile_layer # Uncomment to use Planet.com basemap\n",
    ")\n",
    "m.layout={'height': '500px'}\n",
    "# m.add_layer(tile_layer)\n",
    "# display(m)"
   ]
  },
  {
   "cell_type": "code",
   "execution_count": 8,
   "metadata": {},
   "outputs": [],
   "source": [
    "# Define an output widget to capture the handler's intermediate printouts\n",
    "import ipywidgets as widgets\n",
    "out = widgets.Output(layout={'border': '1px solid black'})\n",
    "# out"
   ]
  },
  {
   "cell_type": "code",
   "execution_count": 9,
   "metadata": {},
   "outputs": [
    {
     "data": {
      "application/vnd.jupyter.widget-view+json": {
       "model_id": "09dbd10203f74dac80f8da9987329713",
       "version_major": 2,
       "version_minor": 0
      },
      "text/plain": [
       "Map(basemap={'url': 'https://{s}.tile.openstreetmap.org/{z}/{x}/{y}.png', 'max_zoom': 19, 'attribution': 'Map …"
      ]
     },
     "metadata": {},
     "output_type": "display_data"
    },
    {
     "data": {
      "application/vnd.jupyter.widget-view+json": {
       "model_id": "b0db2eba5e5b49ba8fc7e79f8c6040ad",
       "version_major": 2,
       "version_minor": 0
      },
      "text/plain": [
       "Output(layout=Layout(border='1px solid black'))"
      ]
     },
     "metadata": {},
     "output_type": "display_data"
    }
   ],
   "source": [
    "# Define the draw tool type options\n",
    "polygon = {'shapeOptions': {'color': colors['blue']}}\n",
    "rectangle = {'shapeOptions': {'color': colors['blue']}} \n",
    "\n",
    "# Create the draw controls\n",
    "# @see https://github.com/ellisonbg/ipyleaflet/blob/master/ipyleaflet/leaflet.py#L293\n",
    "dc = DrawControl(\n",
    "    polygon = polygon,\n",
    "    rectangle = rectangle\n",
    ")\n",
    "\n",
    "# Initialize an action counter variable\n",
    "actionCount = 0\n",
    "AOIs = {}\n",
    "out.clear_output()\n",
    "\n",
    "# Register the draw controls handler\n",
    "@out.capture(clear_output=False)\n",
    "def handle_draw(self, action, geo_json):\n",
    "    # Increment the action counter\n",
    "    global actionCount\n",
    "    \n",
    "    # Remove the `style` property from the GeoJSON\n",
    "    geo_json['properties'] = {}\n",
    "    # Convert geo_json output to a string and prettify (indent & replace ' with \")\n",
    "    geojsonStr = json.dumps(geo_json, indent=2).replace(\"'\", '\"')\n",
    "    AOIs[actionCount] = json.loads(geojsonStr)\n",
    "    \n",
    "    # print to out widget\n",
    "    print(\"=\"*80)\n",
    "    print(\"handle_draw called\")\n",
    "    print('\\tcurr actionCount: ', actionCount)\n",
    "    print('\\taction: ', action)\n",
    "    print('\\tgeo_json: ');pprint(geo_json)\n",
    "    print('AOIs')\n",
    "    pprint(AOIs)\n",
    "    \n",
    "    actionCount += 1\n",
    "\n",
    "# Attach the draw handler to the draw controls `on_draw` event\n",
    "dc.on_draw(handle_draw)\n",
    "m.add_control(dc)\n",
    "display(m)\n",
    "display(out)"
   ]
  },
  {
   "cell_type": "code",
   "execution_count": null,
   "metadata": {},
   "outputs": [],
   "source": []
  }
 ],
 "metadata": {
  "kernelspec": {
   "display_name": "Python 3",
   "language": "python",
   "name": "python3"
  },
  "language_info": {
   "codemirror_mode": {
    "name": "ipython",
    "version": 3
   },
   "file_extension": ".py",
   "mimetype": "text/x-python",
   "name": "python",
   "nbconvert_exporter": "python",
   "pygments_lexer": "ipython3",
   "version": "3.6.7"
  },
  "toc": {
   "base_numbering": 1,
   "nav_menu": {},
   "number_sections": true,
   "sideBar": true,
   "skip_h1_title": false,
   "title_cell": "Table of Contents",
   "title_sidebar": "Contents",
   "toc_cell": false,
   "toc_position": {},
   "toc_section_display": true,
   "toc_window_display": false
  }
 },
 "nbformat": 4,
 "nbformat_minor": 2
}
