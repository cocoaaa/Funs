{
 "cells": [
  {
   "cell_type": "markdown",
   "metadata": {},
   "source": [
    "# Title\n",
    "Description of the notebook"
   ]
  },
  {
   "cell_type": "code",
   "execution_count": 1,
   "metadata": {},
   "outputs": [],
   "source": [
    "%load_ext autoreload\n",
    "%autoreload 2"
   ]
  },
  {
   "cell_type": "code",
   "execution_count": null,
   "metadata": {},
   "outputs": [],
   "source": [
    "# Imports\n",
    "import os, json, requests\n",
    "from requests.auth import HTTPBasicAuth\n",
    "from pprint import pprint\n",
    "\n",
    "import time\n",
    "import pdb"
   ]
  },
  {
   "cell_type": "code",
   "execution_count": null,
   "metadata": {},
   "outputs": [],
   "source": [
    "# Setup Planet Data API base URL\n",
    "BASE_URL = \"https://api.planet.com/data/v1\"\n",
    "STATS_URL = f'{BASE_URL}/stats'\n",
    "\n",
    "\n",
    "# Planet data fetch defaults\n",
    "item_type = 'PSScene4Band'"
   ]
  },
  {
   "cell_type": "markdown",
   "metadata": {},
   "source": [
    "## Planet api client"
   ]
  },
  {
   "cell_type": "code",
   "execution_count": 5,
   "metadata": {},
   "outputs": [],
   "source": [
    "from planet import api"
   ]
  },
  {
   "cell_type": "code",
   "execution_count": 6,
   "metadata": {},
   "outputs": [
    {
     "name": "stdout",
     "output_type": "stream",
     "text": [
      "7d8af35b6e944f33bb5e33ada32ab4a0\n"
     ]
    }
   ],
   "source": [
    "print(client.auth.value)"
   ]
  },
  {
   "cell_type": "code",
   "execution_count": 37,
   "metadata": {},
   "outputs": [],
   "source": [
    "# my_key = '81c0dedd35fd4a398da77753b90d62ea' # songcoco15\n",
    "# my_key = '7d8af35b6e944f33bb5e33ada32ab4a0' #hayleysong15\n",
    "\n",
    "# Set up the Planet API client - method1\n",
    "os.environ['PL_API_KEY']  = my_key\n",
    "client = api.ClientV1()\n",
    "\n",
    "# Method2: alternatively, \n",
    "# client = api.ClientV1(api_key=my_key)"
   ]
  },
  {
   "cell_type": "code",
   "execution_count": 38,
   "metadata": {},
   "outputs": [
    {
     "name": "stdout",
     "output_type": "stream",
     "text": [
      "81c0dedd35fd4a398da77753b90d62ea\n"
     ]
    }
   ],
   "source": [
    "print(client.auth.value)"
   ]
  },
  {
   "cell_type": "code",
   "execution_count": 3,
   "metadata": {},
   "outputs": [],
   "source": [
    "## Set Area of Interest\n",
    "aoi_data = {\n",
    "  \"type\": \"FeatureCollection\",\n",
    "  \"features\": [\n",
    "    {\n",
    "      \"type\": \"Feature\",\n",
    "      \"properties\": {},\n",
    "      \"geometry\": {\n",
    "        \"type\": \"Polygon\",\n",
    "        \"coordinates\": [\n",
    "          [\n",
    "            [\n",
    "              -118.2967472076416,\n",
    "              34.00578318672437\n",
    "            ],\n",
    "            [\n",
    "              -118.22739601135252,\n",
    "              34.00578318672437\n",
    "            ],\n",
    "            [\n",
    "              -118.22739601135252,\n",
    "              34.07846940942791\n",
    "            ],\n",
    "            [\n",
    "              -118.2967472076416,\n",
    "              34.07846940942791\n",
    "            ],\n",
    "            [\n",
    "              -118.2967472076416,\n",
    "              34.00578318672437\n",
    "            ]\n",
    "          ]\n",
    "        ]\n",
    "      }\n",
    "    }\n",
    "  ]\n",
    "}\n",
    "aoi_geom = aoi_data['features'][0]['geometry']"
   ]
  },
  {
   "cell_type": "markdown",
   "metadata": {},
   "source": [
    "## Seach scenes with filters\n",
    "- `quick_search` member function\n",
    "- requires filters (`planet.api.filters`\n"
   ]
  },
  {
   "cell_type": "code",
   "execution_count": 7,
   "metadata": {},
   "outputs": [],
   "source": [
    "from planet.api import filters\n",
    "from datetime import datetime"
   ]
  },
  {
   "cell_type": "code",
   "execution_count": 8,
   "metadata": {},
   "outputs": [],
   "source": [
    "# geometry filter\n",
    "geom_filter = filters.geom_filter(aoi_geom)\n",
    "\n",
    "# date filter\n",
    "start_date = datetime(year=2016, month=1, day=1)\n",
    "end_date = datetime(year=2019, month=4, day=1)\n",
    "date_filter = filters.date_range('acquired', gte=start_date, lte=end_date)\n",
    "\n",
    "# cloud filter\n",
    "cloud_filter = filters.range_filter('cloud_cover', lte=0.1)\n",
    "\n",
    "# and filter\n",
    "and_filter = filters.and_filter(\n",
    "    geom_filter, date_filter, cloud_filter\n",
    ")"
   ]
  },
  {
   "cell_type": "code",
   "execution_count": 9,
   "metadata": {},
   "outputs": [
    {
     "name": "stdout",
     "output_type": "stream",
     "text": [
      "<class 'dict'>\n",
      "{'config': ({'config': {'coordinates': [[[-118.2967472076416,\n",
      "                                          34.00578318672437],\n",
      "                                         [-118.22739601135252,\n",
      "                                          34.00578318672437],\n",
      "                                         [-118.22739601135252,\n",
      "                                          34.07846940942791],\n",
      "                                         [-118.2967472076416,\n",
      "                                          34.07846940942791],\n",
      "                                         [-118.2967472076416,\n",
      "                                          34.00578318672437]]],\n",
      "                        'type': 'Polygon'},\n",
      "             'field_name': 'geometry',\n",
      "             'type': 'GeometryFilter'},\n",
      "            {'config': {'gte': '2016-01-01T00:00:00Z',\n",
      "                        'lte': '2019-04-01T00:00:00Z'},\n",
      "             'field_name': 'acquired',\n",
      "             'type': 'DateRangeFilter'},\n",
      "            {'config': {'lte': 0.1},\n",
      "             'field_name': 'cloud_cover',\n",
      "             'type': 'RangeFilter'}),\n",
      " 'type': 'AndFilter'}\n"
     ]
    }
   ],
   "source": [
    "print(type(and_filter))\n",
    "pprint(and_filter)"
   ]
  },
  {
   "cell_type": "code",
   "execution_count": 10,
   "metadata": {},
   "outputs": [
    {
     "data": {
      "text/plain": [
       "dict_keys(['type', 'config'])"
      ]
     },
     "execution_count": 10,
     "metadata": {},
     "output_type": "execute_result"
    }
   ],
   "source": [
    "and_filter.keys()"
   ]
  },
  {
   "cell_type": "markdown",
   "metadata": {},
   "source": [
    "- Send a HTTP request for search. Needs to specify:\n",
    "    - ::filters:: for scene searches\n",
    "    - item_type (eg. \"PSScene4Band\")"
   ]
  },
  {
   "cell_type": "code",
   "execution_count": 11,
   "metadata": {},
   "outputs": [
    {
     "name": "stdout",
     "output_type": "stream",
     "text": [
      "{'filter': {'config': ({'config': {'coordinates': [[[-118.2967472076416,\n",
      "                                                     34.00578318672437],\n",
      "                                                    [-118.22739601135252,\n",
      "                                                     34.00578318672437],\n",
      "                                                    [-118.22739601135252,\n",
      "                                                     34.07846940942791],\n",
      "                                                    [-118.2967472076416,\n",
      "                                                     34.07846940942791],\n",
      "                                                    [-118.2967472076416,\n",
      "                                                     34.00578318672437]]],\n",
      "                                   'type': 'Polygon'},\n",
      "                        'field_name': 'geometry',\n",
      "                        'type': 'GeometryFilter'},\n",
      "                       {'config': {'gte': '2016-01-01T00:00:00Z',\n",
      "                                   'lte': '2019-04-01T00:00:00Z'},\n",
      "                        'field_name': 'acquired',\n",
      "                        'type': 'DateRangeFilter'},\n",
      "                       {'config': {'lte': 0.1},\n",
      "                        'field_name': 'cloud_cover',\n",
      "                        'type': 'RangeFilter'}),\n",
      "            'type': 'AndFilter'},\n",
      " 'item_types': ['PSScene4Band']}\n"
     ]
    }
   ],
   "source": [
    "item_types = ['PSScene4Band']\n",
    "search_req = filters.build_search_request(and_filter, item_types)\n",
    "pprint(search_req)"
   ]
  },
  {
   "cell_type": "code",
   "execution_count": 12,
   "metadata": {},
   "outputs": [],
   "source": [
    "res = client.quick_search(search_req)"
   ]
  },
  {
   "cell_type": "markdown",
   "metadata": {},
   "source": [
    "`items_iter` method requires the number of items to be iterated\n",
    "we can get the number of items ahead of time\n",
    "actually....nah, not easily (ie. not following through all the '_next' links if more than 250 items exist \n",
    "in the search result\n",
    "\n",
    "`n_items = len(res.get()[res.ITEM_KEY])`"
   ]
  },
  {
   "cell_type": "code",
   "execution_count": 13,
   "metadata": {},
   "outputs": [],
   "source": [
    "items = []\n",
    "for item in res.items_iter(1000):\n",
    "#     pdb.set_trace()\n",
    "#     print('scene id: ', item['id'])\n",
    "#     pprint(item['properties'])\n",
    "    items.append(item)"
   ]
  },
  {
   "cell_type": "code",
   "execution_count": 217,
   "metadata": {},
   "outputs": [],
   "source": [
    "# with open('output/results.json', 'w') as f:\n",
    "#     res.json_encode(f,limit=100)"
   ]
  },
  {
   "cell_type": "markdown",
   "metadata": {},
   "source": [
    "- To download the image of the scene, further specify:\n",
    "    - asset_type (eg. 'analytic', 'visual')\n",
    "    - needs to activate the asset first \n",
    "    - once activation succeeds, download via the download_link\n",
    "    "
   ]
  }
 ],
 "metadata": {
  "kernelspec": {
   "display_name": "Python [conda env:pyviz]",
   "language": "python",
   "name": "conda-env-pyviz-py"
  },
  "language_info": {
   "codemirror_mode": {
    "name": "ipython",
    "version": 3
   },
   "file_extension": ".py",
   "mimetype": "text/x-python",
   "name": "python",
   "nbconvert_exporter": "python",
   "pygments_lexer": "ipython3",
   "version": "3.6.7"
  }
 },
 "nbformat": 4,
 "nbformat_minor": 2
}
